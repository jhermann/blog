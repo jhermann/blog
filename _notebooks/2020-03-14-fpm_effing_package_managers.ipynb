{
 "cells": [
  {
   "cell_type": "markdown",
   "metadata": {},
   "source": [
    "# \"Packaging Software with ‘fpm’\"\n",
    "> \"fpm (eFfing Package Management) enables you to build all sorts of Linux packages with great ease and sanity.\"\n",
    "- author: jhermann\n",
    "- toc: false\n",
    "- branch: master\n",
    "- badges: true\n",
    "- comments: true\n",
    "- published: true\n",
    "- categories: [linux, deployment]\n",
    "- image: images/copied_from_nb/img/linux/fpm.png"
   ]
  },
  {
   "cell_type": "markdown",
   "metadata": {},
   "source": [
    "![](img/linux/fpm.png)"
   ]
  },
  {
   "cell_type": "markdown",
   "metadata": {},
   "source": [
    "## What it does\n",
    "\n",
    "Basically, ‘fpm’ allows you to deploy any software via OS packages,\n",
    "from an installation tree on disk or from already built artifacts specific to\n",
    "the chosen implementation language.\n",
    "\n",
    "The main advantage over native tooling is you do not need to know\n",
    "about every minute detail of the involved commands and metafile formats\n",
    "for every platform.\n",
    "In case of Debian, that is at least the “control” and “rules” files,\n",
    "and tools like “buildpackage” and “debhelpers”."
   ]
  },
  {
   "cell_type": "markdown",
   "metadata": {},
   "source": [
    "## How to install it\n",
    "\n",
    "‘fpm’ is written in Ruby and can thus be installed via `gem install`.\n",
    "But you can also run it with JRuby in a JVM,\n",
    "that you might happen to already have on a host anyway.\n",
    "Using JRuby spares you the headache of juggling multiple Ruby versions\n",
    "and isolating gems against other Ruby applications.\n",
    "\n",
    "If you package it up that way, it also can be installed on any Linux release\n",
    "because you only need a Java8 JRE installed to run it\n",
    "– no native code involved. \n",
    "You can use the `fpm.sh` script in the\n",
    "[priscilla](https://github.com/jhermann/priscilla) project on GitHub\n",
    "to package ‘fpm’ with itself. As written, it works for Debian derivatives,\n",
    "but should be adaptable to other distros with a few changes\n",
    "(remember, ‘fpm’ makes that easy)."
   ]
  },
  {
   "cell_type": "markdown",
   "metadata": {},
   "source": [
    "If you call `./fpm.sh pkg`, the package contents is created in\n",
    "`build` as a staging area, and when everything is ready, \n",
    "`fpm` is called from within that staging area to create the final package:\n",
    "\n",
    "    build/opt_tools_fpm/opt/tools/fpm/bin/fpm \\\n",
    "        -s dir -t deb -n opt-tools-fpm -v 1.11.0 \\\n",
    "        --iteration 1 --category tools \\\n",
    "        --deb-user root --deb-group root \\\n",
    "        -m '\"Juergen Hermann\" <jh@web.de>' \\\n",
    "        --license 'See contained license, or homepage' \\\n",
    "        --vendor github.com/jhermann/priscilla \\\n",
    "        --description 'fpm helps you build packages quickly and easily' \\\n",
    "        --url http://fpm.readthedocs.io/ \\\n",
    "        --workdir $PWD/build/opt_tools_fpm/tmp \\\n",
    "        -a all -d 'openjdk-8-jre|…|java8-runtime-headless' \\\n",
    "        opt usr\n",
    "\n",
    "Yes, this is a mouthful, but still shorter than a `control` or `.spec` file,\n",
    "and easily adapted to other package managers."
   ]
  },
  {
   "cell_type": "markdown",
   "metadata": {},
   "source": [
    "This created a DEB file `./build/opt_tools_fpm/opt-tools-fpm_1.11.0-1_all.deb`, with this metadata:\n",
    "\n",
    "     new debian package, version 2.0.\n",
    "     size 23763108 bytes: control archive= 30446 bytes.\n",
    "         462 bytes,    12 lines      control              \n",
    "      119039 bytes,  1118 lines      md5sums              \n",
    "     Package: opt-tools-fpm\n",
    "     Version: 1.11.0-1\n",
    "     License: See contained license, or homepage\n",
    "     Vendor: github.com/jhermann/priscilla\n",
    "     Architecture: all\n",
    "     Maintainer: \"Juergen Hermann\" <jh@web.de>\n",
    "     Installed-Size: 27046\n",
    "     Depends: openjdk-8-jre|zulu8|…|java8-runtime-headless\n",
    "     Section: tools\n",
    "     Priority: extra\n",
    "     Homepage: http://fpm.readthedocs.io/\n",
    "     Description: fpm helps you build packages quickly and easily\n",
    "\n",
    "The major part of files is installed into `/opt/tools/fpm`,\n",
    "but a symlink at `/usr/bin/fpm` makes the command available on the path.\n",
    "\n",
    "Building fpm 1.11.0 that way was tested on Ubuntu Bionic using\n",
    "openjdk-8-jre-headless 8u242."
   ]
  },
  {
   "cell_type": "markdown",
   "metadata": {},
   "source": [
    "## How to use it\n",
    "\n",
    "There are a lot of source and target types available in fpm\n",
    "(dir, gem, deb, npm, rpm, tar, cpan, pear, empty, puppet, python, osxpkg, solaris, \n",
    "p5p, pkgin, freebsd, apk, snap, pleaserun, zip, virtualenv, pacman, sh),\n",
    "this example converts a Python workdir into a DEB package file.\n",
    "\n",
    "The [rudiments](https://github.com/jhermann/rudiments) project serves as the example here, but you can use any pure Python project built with setuptools. \n",
    "You have to clone the project and then call fpm like so:\n",
    "\n",
    "    ( deactivate 2>/dev/null; py=/usr/bin/python3; \\\n",
    "      fpm -s python -t deb --category python \\\n",
    "        --python-bin $py \\\n",
    "        --python-pip \"$py -m pip\" \\\n",
    "        --python-package-name-prefix \"$(basename $py)\" \\\n",
    "        --python-obey-requirements-txt \\\n",
    "        --python-install-data \"/usr/local/share/$(basename $py)/$($py ./setup.py --name)\" \\\n",
    "        -m \"\\\"$($py ./setup.py --author)\\\" <$($py ./setup.py --author-email)>\" \\\n",
    "        --vendor \"$($py ./setup.py --url | cut -f3-4 -d/)\" \\\n",
    "        --force $PWD/setup.py )\n",
    "\n",
    "The ``--force`` option overwrites an existing package file, so you can call the command multiple times without an error."
   ]
  },
  {
   "cell_type": "markdown",
   "metadata": {},
   "source": [
    "If you inspect the built package with ``dpkg-deb -I python3-rudiments_*_all.deb``,\n",
    "this is the output:\n",
    "\n",
    "     new Debian package, version 2.0.\n",
    "     size 31062 bytes: control archive=1417 bytes.\n",
    "         366 bytes,    12 lines      control              \n",
    "        3789 bytes,    30 lines      md5sums              \n",
    "     Package: python3-rudiments\n",
    "     Version: 0.3.1\n",
    "     License: Apache 2.0\n",
    "     Vendor: github.com/jhermann\n",
    "     Architecture: all\n",
    "     Maintainer: \"Jürgen Hermann\" <jh@web.de>\n",
    "     Installed-Size: 79\n",
    "     Depends: python3-requests (>= 2.6)\n",
    "     Section: python\n",
    "     Priority: extra\n",
    "     Homepage: https://github.com/jhermann/rudiments\n",
    "     Description: Rudiments – Fundamental elements for any Python project."
   ]
  },
  {
   "cell_type": "markdown",
   "metadata": {},
   "source": [
    "The package's content is placed into these directories:\n",
    "\n",
    "    /usr/local/lib/python3.6\n",
    "    /usr/local/share/python3/rudiments\n",
    "    /usr/share/doc/python3-rudiments\n",
    "    \n",
    "You can install it using `dpkg -i …` and then do a quick import test with this command:\n",
    "\n",
    "    python3 -c \"import rudiments; print(rudiments)\""
   ]
  },
  {
   "cell_type": "markdown",
   "metadata": {},
   "source": [
    "## Where to go from here\n",
    "\n",
    "Read more about ‘fpm’ on its [github wiki](https://github.com/jordansissel/fpm/wiki), or watch [this slide deck](http://goo.gl/sWs3Z)."
   ]
  },
  {
   "cell_type": "markdown",
   "metadata": {},
   "source": [
    "> *Credits:* Package icon by [Breathe Icon Team: Sebastian Porta, Cory Kontros, Andrew Starr-Bochicchio](https://de.wikipedia.org/wiki/Datei:Breathe-package-x-generic.svg)"
   ]
  }
 ],
 "metadata": {
  "hide_input": false,
  "kernelspec": {
   "display_name": "Python 3",
   "language": "python",
   "name": "python3"
  },
  "language_info": {
   "codemirror_mode": {
    "name": "ipython",
    "version": 3
   },
   "file_extension": ".py",
   "mimetype": "text/x-python",
   "name": "python",
   "nbconvert_exporter": "python",
   "pygments_lexer": "ipython3",
   "version": "3.8.1"
  },
  "toc": {
   "base_numbering": 1,
   "nav_menu": {},
   "number_sections": true,
   "sideBar": true,
   "skip_h1_title": false,
   "title_cell": "Table of Contents",
   "title_sidebar": "Contents",
   "toc_cell": false,
   "toc_position": {},
   "toc_section_display": true,
   "toc_window_display": false
  },
  "varInspector": {
   "cols": {
    "lenName": 16,
    "lenType": 16,
    "lenVar": 40
   },
   "kernels_config": {
    "python": {
     "delete_cmd_postfix": "",
     "delete_cmd_prefix": "del ",
     "library": "var_list.py",
     "varRefreshCmd": "print(var_dic_list())"
    },
    "r": {
     "delete_cmd_postfix": ") ",
     "delete_cmd_prefix": "rm(",
     "library": "var_list.r",
     "varRefreshCmd": "cat(var_dic_list()) "
    }
   },
   "types_to_exclude": [
    "module",
    "function",
    "builtin_function_or_method",
    "instance",
    "_Feature"
   ],
   "window_display": false
  }
 },
 "nbformat": 4,
 "nbformat_minor": 4
}
