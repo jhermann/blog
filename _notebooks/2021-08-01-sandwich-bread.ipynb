{
 "cells": [
  {
   "cell_type": "markdown",
   "metadata": {},
   "source": [
    "# Sandwich / Toast Bread\n",
    "> \"This is my go-to recipe for a general sandwich / toast bread by now, and works reliably every time.\"\n",
    "- author: jhermann\n",
    "- toc: false\n",
    "- branch: master\n",
    "- badges: true\n",
    "- comments: true\n",
    "- published: true\n",
    "- categories: [food, baking]\n",
    "- image: images/copied_from_nb/img/food/sandwich-bread2.png"
   ]
  },
  {
   "cell_type": "markdown",
   "metadata": {},
   "source": [
    "![Cover Image](img/food/sandwich-bread2.png)"
   ]
  },
  {
   "cell_type": "markdown",
   "metadata": {},
   "source": [
    "In these times I picked up making my own bread again, avoiding trips to the bakery and helped by having more leisure time due to commute times being mere seconds instead of about 40 minutes as before.\n",
    "\n",
    "Bread baking is also a nice break from coding, and if you're in need of stress relief, dough can be a satisfying target of physical force. 😉"
   ]
  },
  {
   "cell_type": "markdown",
   "metadata": {},
   "source": [
    "## Ingredients\n",
    "\n",
    " * 400g  bread flour (e.g. type 550 wheat, or 200g whole dinkel and 200g emmer)\n",
    " *  10g  xylitol (or sugar)\n",
    " *  11g  salt\n",
    " *   5g  guar gum (E412)\n",
    " *   5g  malt flour (or sugar)\n",
    " *   3g  instant dry yeast\n",
    " *   3g  CMC (Tylo / E466)\n",
    " *   1g  bread spices (typical: fennel · caraway · anise · coriander · allspice · cardamom)\n",
    " *  60g  softened butter (or 40g olive or alba oil)\n",
    " * 300g  poolish (pre-ferment from 150g flour and 150g water, see below)\n",
    " * 210ml lukewarm milk (66% hydration)\n",
    " \n",
    "You can make this vegan by using oil only, and your vegan milk variant of choice."
   ]
  },
  {
   "cell_type": "markdown",
   "metadata": {},
   "source": [
    "## Steps\n",
    "\n",
    "These instructions are terse, see the gallery below for some visual cues.\n",
    "\n",
    " 1. Prepare the poolish at least 8–12h before you start, e.g. over night for a morning bake.\n",
    " 1. Mix dry ingredients in a bowl.\n",
    " 1. Add poolish, milk and butter or oil, knead to a soft smooth consistency.\n",
    " 1. Let rise in a covered bowl for 90 min until doubled in size\n",
    " 1. Flatten to a thick rectangular shape (ca. 25×30cm), on a floured work surface.\n",
    " 1. Fold the left and right quarter onto the middle, and roll up from the small side, while applying tension.\n",
    " 1. Pinch the seam so it's closed nicely.\n",
    " 1. Put the roll seam-side down into a thinly oiled or non-stick loaf pan (25cm / 10\").\n",
    " 1. Brush top with olive oil, cover and let rise a 2nd time until doubled in size (½ - 1h).\n",
    " 1. Preheat oven to 240°C, add steam (water spray) directly after putting the pan into the oven.\n",
    " 1. Bake at 170°C (160°C with convection) for 35…45 min, until golden brown and core temp. is ~95°C.\n",
    " 1. Don't use convection in the first 10 min, to keep the steam in and get some oven spring.\n",
    " 1. Remove loaf from tin after 10 min, then let it cool on a rack for at least 2 hours.\n",
    "\n",
    "You can uncomplicate it by leaving out ingredients like CMC and guar gum (use less milk then), use no bread spices, and use more yeast (7g) with just the flour and water instead of the poolish.\n",
    "\n",
    "Any such modification changes taste and the characteristics of the dough before and crumb / crust after baking though, so you'll have to find your optimum then."
   ]
  },
  {
   "cell_type": "markdown",
   "metadata": {},
   "source": [
    "## What is a Poolish?\n",
    "A poolish is a slow-rise pre-ferment of 1:1 flour and water, no salt, and very little yeast or sourdough starter, and adds more taste and strength to your bread. The term originates in French baking, and e.g. is an essential part of making classic baguettes.\n",
    "\n",
    "You can use 20…50% in a bread recipe, but the higher the ratio the more you have to watch out for over-fermentation (weak dough due to little remaining gluten). Reduce flour and water in the main recipe according to that ratio.\n",
    "\n",
    "You need a jewelers scale (pocket scale, d=0.01g or better) for measuring the very small amounts of yeast used with slow-rise fermentation.\n",
    "\n",
    "*Ingredients:*\n",
    "  * 150g bread flour (20…50% of overall flour)\n",
    "  * 150ml water\n",
    "  * 0.15g … 0.5g instant dry yeast\n",
    "\n",
    "*Steps:*\n",
    "  1. Put yeast container on your scale, press tare, and then take out the negative weight with a small (measuring) spoon.\n",
    "  1. Drop yeast into water in a (glass) container with lid, holding at least 600ml.\n",
    "  1. Mix with a chopstick, add flour and mix to a homogeneous paste.\n",
    "  1. Ferment covered for 8-16h at room temperature (until bubbly and doubled in size).\n",
    "  1. Use immediately or store in fridge for up to 5 days.\n",
    "\n",
    "Adapt yeast percentages according to time and ambient temperature (ranges for summer / winter):\n",
    "  * <8h – 0.23% … 0.33%\n",
    "  * <12h – 0.1% … 0.2%\n",
    "  * <16h – 0.03% … 0.08%\n",
    "  * 2h – 1% (only if you're in a rush)"
   ]
  },
  {
   "cell_type": "markdown",
   "metadata": {},
   "source": [
    "## The Comic\n",
    "\n",
    "For the visual creatures amongst us, here's the major steps in pictures.\n",
    "\n",
    "![Picture Gallery: Steps](img/food/sandwich-bread.jpg)"
   ]
  }
 ],
 "metadata": {
  "hide_input": false,
  "kernelspec": {
   "display_name": "Python 3",
   "language": "python",
   "name": "python3"
  },
  "language_info": {
   "codemirror_mode": {
    "name": "ipython",
    "version": 3
   },
   "file_extension": ".py",
   "mimetype": "text/x-python",
   "name": "python",
   "nbconvert_exporter": "python",
   "pygments_lexer": "ipython3",
   "version": "3.6.9"
  },
  "toc": {
   "base_numbering": 1,
   "nav_menu": {},
   "number_sections": true,
   "sideBar": true,
   "skip_h1_title": false,
   "title_cell": "Table of Contents",
   "title_sidebar": "Contents",
   "toc_cell": false,
   "toc_position": {},
   "toc_section_display": true,
   "toc_window_display": false
  },
  "varInspector": {
   "cols": {
    "lenName": 16,
    "lenType": 16,
    "lenVar": 40
   },
   "kernels_config": {
    "python": {
     "delete_cmd_postfix": "",
     "delete_cmd_prefix": "del ",
     "library": "var_list.py",
     "varRefreshCmd": "print(var_dic_list())"
    },
    "r": {
     "delete_cmd_postfix": ") ",
     "delete_cmd_prefix": "rm(",
     "library": "var_list.r",
     "varRefreshCmd": "cat(var_dic_list()) "
    }
   },
   "types_to_exclude": [
    "module",
    "function",
    "builtin_function_or_method",
    "instance",
    "_Feature"
   ],
   "window_display": false
  }
 },
 "nbformat": 4,
 "nbformat_minor": 2
}
